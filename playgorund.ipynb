{
 "cells": [
  {
   "cell_type": "markdown",
   "metadata": {},
   "source": [
    "# Duckduckgo"
   ]
  },
  {
   "cell_type": "code",
   "execution_count": 17,
   "metadata": {},
   "outputs": [
    {
     "name": "stdout",
     "output_type": "stream",
     "text": [
      "[{'title': 'File:20110425 German Shepherd Dog 8505.jpg - Wikimedia Commons', 'image': 'https://upload.wikimedia.org/wikipedia/commons/6/61/20110425_German_Shepherd_Dog_8505.jpg', 'thumbnail': 'https://tse3.mm.bing.net/th?id=OIP.7Ujk641Pa2i2dkmxTvRFgQHaE6&pid=Api', 'url': 'https://commons.wikimedia.org/wiki/File:20110425_German_Shepherd_Dog_8505.jpg', 'height': 2820, 'width': 4245, 'source': 'Bing'}, {'title': '7 Facts About The German Shepherd - Animalso', 'image': 'https://animalso.com/wp-content/uploads/2017/01/German-Shepherd_9.jpg', 'thumbnail': 'https://tse2.mm.bing.net/th?id=OIP._3TBS4t_estch-JDz1FhdwHaFj&pid=Api', 'url': 'https://animalso.com/breeds/german-shepherd/', 'height': 1397, 'width': 1863, 'source': 'Bing'}, {'title': 'German Shepherds | Dog Breed Information [Complete Guide]', 'image': 'https://dogisworld.com/wp-content/uploads/2019/05/german-shepherd.jpg', 'thumbnail': 'https://tse3.mm.bing.net/th?id=OIP.-bln1XEmiUtB2N6k6Mxf0gHaE9&pid=Api', 'url': 'https://dogisworld.com/dog-breed/german-shepherd/', 'height': 2592, 'width': 3872, 'source': 'Bing'}, {'title': 'Female German Shepherd Puppy - Placed | Puppy Steps Training', 'image': 'http://www.puppystepstraining.com/wp-content/uploads/2014/09/pup1-1-e1412274637308.jpg', 'thumbnail': 'https://tse1.mm.bing.net/th?id=OIP.2PSs8vQszwwIyps-UC9EDgHaJN&pid=Api', 'url': 'http://www.puppystepstraining.com/2014/09/15/female-german-shepherd/', 'height': 3535, 'width': 2840, 'source': 'Bing'}, {'title': 'File:20110425 German Shepherd Dog 8473.jpg', 'image': 'http://upload.wikimedia.org/wikipedia/commons/5/54/20110425_German_Shepherd_Dog_8473.jpg', 'thumbnail': 'https://tse3.mm.bing.net/th?id=OIP.PN8jdjmOtrZemBuU81PlvQHaE6&pid=Api', 'url': 'http://commons.wikimedia.org/wiki/File:20110425_German_Shepherd_Dog_8473.jpg', 'height': 2848, 'width': 4288, 'source': 'Bing'}]\n"
     ]
    }
   ],
   "source": [
    "from duckduckgo_search import DDGS\n",
    "\n",
    "with DDGS() as ddgs:\n",
    "    results = [r for r in ddgs.images(\"German Shepherds\", max_results=5)]\n",
    "    print(results)"
   ]
  },
  {
   "cell_type": "code",
   "execution_count": 18,
   "metadata": {},
   "outputs": [
    {
     "data": {
      "text/plain": [
       "[{'title': 'File:20110425 German Shepherd Dog 8505.jpg - Wikimedia Commons',\n",
       "  'image': 'https://upload.wikimedia.org/wikipedia/commons/6/61/20110425_German_Shepherd_Dog_8505.jpg',\n",
       "  'thumbnail': 'https://tse3.mm.bing.net/th?id=OIP.7Ujk641Pa2i2dkmxTvRFgQHaE6&pid=Api',\n",
       "  'url': 'https://commons.wikimedia.org/wiki/File:20110425_German_Shepherd_Dog_8505.jpg',\n",
       "  'height': 2820,\n",
       "  'width': 4245,\n",
       "  'source': 'Bing'},\n",
       " {'title': '7 Facts About The German Shepherd - Animalso',\n",
       "  'image': 'https://animalso.com/wp-content/uploads/2017/01/German-Shepherd_9.jpg',\n",
       "  'thumbnail': 'https://tse2.mm.bing.net/th?id=OIP._3TBS4t_estch-JDz1FhdwHaFj&pid=Api',\n",
       "  'url': 'https://animalso.com/breeds/german-shepherd/',\n",
       "  'height': 1397,\n",
       "  'width': 1863,\n",
       "  'source': 'Bing'},\n",
       " {'title': 'German Shepherds | Dog Breed Information [Complete Guide]',\n",
       "  'image': 'https://dogisworld.com/wp-content/uploads/2019/05/german-shepherd.jpg',\n",
       "  'thumbnail': 'https://tse3.mm.bing.net/th?id=OIP.-bln1XEmiUtB2N6k6Mxf0gHaE9&pid=Api',\n",
       "  'url': 'https://dogisworld.com/dog-breed/german-shepherd/',\n",
       "  'height': 2592,\n",
       "  'width': 3872,\n",
       "  'source': 'Bing'},\n",
       " {'title': 'Female German Shepherd Puppy - Placed | Puppy Steps Training',\n",
       "  'image': 'http://www.puppystepstraining.com/wp-content/uploads/2014/09/pup1-1-e1412274637308.jpg',\n",
       "  'thumbnail': 'https://tse1.mm.bing.net/th?id=OIP.2PSs8vQszwwIyps-UC9EDgHaJN&pid=Api',\n",
       "  'url': 'http://www.puppystepstraining.com/2014/09/15/female-german-shepherd/',\n",
       "  'height': 3535,\n",
       "  'width': 2840,\n",
       "  'source': 'Bing'},\n",
       " {'title': 'File:20110425 German Shepherd Dog 8473.jpg',\n",
       "  'image': 'http://upload.wikimedia.org/wikipedia/commons/5/54/20110425_German_Shepherd_Dog_8473.jpg',\n",
       "  'thumbnail': 'https://tse3.mm.bing.net/th?id=OIP.PN8jdjmOtrZemBuU81PlvQHaE6&pid=Api',\n",
       "  'url': 'http://commons.wikimedia.org/wiki/File:20110425_German_Shepherd_Dog_8473.jpg',\n",
       "  'height': 2848,\n",
       "  'width': 4288,\n",
       "  'source': 'Bing'}]"
      ]
     },
     "execution_count": 18,
     "metadata": {},
     "output_type": "execute_result"
    }
   ],
   "source": [
    "results"
   ]
  },
  {
   "cell_type": "markdown",
   "metadata": {},
   "source": []
  }
 ],
 "metadata": {
  "kernelspec": {
   "display_name": "chatbot",
   "language": "python",
   "name": "python3"
  },
  "language_info": {
   "codemirror_mode": {
    "name": "ipython",
    "version": 3
   },
   "file_extension": ".py",
   "mimetype": "text/x-python",
   "name": "python",
   "nbconvert_exporter": "python",
   "pygments_lexer": "ipython3",
   "version": "3.11.5"
  }
 },
 "nbformat": 4,
 "nbformat_minor": 2
}
